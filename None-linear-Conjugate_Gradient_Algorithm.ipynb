{
  "nbformat": 4,
  "nbformat_minor": 0,
  "metadata": {
    "colab": {
      "name": "Conjugate Gradient Algorithm",
      "provenance": [],
      "collapsed_sections": []
    },
    "kernelspec": {
      "name": "python3",
      "display_name": "Python 3"
    }
  },
  "cells": [
    {
      "cell_type": "code",
      "metadata": {
        "id": "dZHUGbxStyEi"
      },
      "source": [
        "from scipy.sparse.linalg import cgs\n",
        "import numpy as np\n",
        "import matplotlib.pyplot as plt\n",
        "from matplotlib import pyplot\n",
        "from numpy import linalg as LA\n",
        "from numpy.linalg import inv\n",
        "%matplotlib inline"
      ],
      "execution_count": null,
      "outputs": []
    },
    {
      "cell_type": "markdown",
      "metadata": {
        "id": "-B83MDtOejsk"
      },
      "source": [
        "# Regular CG algrithm\n"
      ]
    },
    {
      "cell_type": "code",
      "metadata": {
        "id": "OrnqiW_KPv8X"
      },
      "source": [
        "def CG(A,b,tol):\n",
        "\n",
        "  x = np.zeros((A.shape[0],1))\n",
        "  r = A @ x - b\n",
        "  pk = - r\n",
        "  k = 0\n",
        "  while LA.norm(r) > tol:\n",
        "    alpha_k = -(r.T)*(pk)/((pk.T)@A@pk)\n",
        "    x += alpha_k @ pk\n",
        "    r = A @ x - b\n",
        "    beta = ((r.T) @ A @ pk )/ ((pk.T) @ A @ pk)\n",
        "    pk = -r + beta * pk\n",
        "    k  = k + 1 #step counter\n",
        "  return x,k"
      ],
      "execution_count": null,
      "outputs": []
    },
    {
      "cell_type": "code",
      "metadata": {
        "id": "GzFuW6iKvPJC"
      },
      "source": [
        "A = np.array([[2.0, 1.0,0], [1.0, 2.0,1.],[0,1.,2.]])\n",
        "b = np.array([[47.0], [-578.0],[-58.]]) \n",
        "tol = 1e-8"
      ],
      "execution_count": null,
      "outputs": []
    },
    {
      "cell_type": "code",
      "metadata": {
        "id": "Q26q7Y2pPbuX"
      },
      "source": [
        "#make a SPD matrix to test CG alg\n",
        "A = np.random.randn(10,10)\n",
        "b_n = np.random.randn(10,1)\n",
        "A_SPD = A.T @ A "
      ],
      "execution_count": null,
      "outputs": []
    },
    {
      "cell_type": "code",
      "metadata": {
        "id": "JwoKaC2kzuRx",
        "colab": {
          "base_uri": "https://localhost:8080/"
        },
        "outputId": "74ba3ac2-e573-477c-8f30-451ba824dccb"
      },
      "source": [
        "print(CG(A_SPD,b_n,tol))"
      ],
      "execution_count": null,
      "outputs": [
        {
          "output_type": "stream",
          "text": [
            "(array([[ 163166.4602533 ],\n",
            "       [ -47290.58836187],\n",
            "       [ -12786.56602008],\n",
            "       [ -54070.65352802],\n",
            "       [ -10479.14553999],\n",
            "       [-108659.10918587],\n",
            "       [ -89285.59236877],\n",
            "       [   -664.15552711],\n",
            "       [  81683.19177899],\n",
            "       [-155395.75967068]]), 14)\n"
          ],
          "name": "stdout"
        }
      ]
    },
    {
      "cell_type": "code",
      "metadata": {
        "id": "7Jv_xQCBQDyt",
        "colab": {
          "base_uri": "https://localhost:8080/"
        },
        "outputId": "f1178fc4-31a2-48f4-e509-e055e5c99888"
      },
      "source": [
        "#CG method from scipy to chekc solution\n",
        "\n",
        "print(cgs(A_SPD,b_n,tol=1e-05))"
      ],
      "execution_count": null,
      "outputs": [
        {
          "output_type": "stream",
          "text": [
            "(array([ 163166.46029604,  -47290.5883752 ,  -12786.56603472,\n",
            "        -54070.65354771,  -10479.14557338, -108659.10920434,\n",
            "        -89285.59241179,    -664.1555352 ,   81683.19179141,\n",
            "       -155395.75970963]), 0)\n"
          ],
          "name": "stdout"
        }
      ]
    },
    {
      "cell_type": "markdown",
      "metadata": {
        "id": "If7eeoaVepKQ"
      },
      "source": [
        "# None linear CG _FR below "
      ]
    },
    {
      "cell_type": "code",
      "metadata": {
        "id": "SA_rlKQU3IzH"
      },
      "source": [
        "def rosenbrock(A,s):\n",
        "\n",
        "  f = A*(s[1,0]-s[0,0]**2)**2 + (1-(s[0,0]))**2\n",
        "\n",
        "  return f"
      ],
      "execution_count": null,
      "outputs": []
    },
    {
      "cell_type": "markdown",
      "metadata": {
        "id": "O41DR-tLeu0y"
      },
      "source": [
        "**non linear CG_FR with rosenbrock A = 1**"
      ]
    },
    {
      "cell_type": "code",
      "metadata": {
        "id": "mpFiwql60CLo"
      },
      "source": [
        "def NonelinearCG_FR_A1(tol,alpha_0,rho,c,x_0):\n",
        "  x = x_0\n",
        "  \n",
        "  gk = np.array([[4*(x[0,0]**3) - 4*x[0,0]*x[1,0] + 2*x[0,0] - 2],[2*x[1,0]-2*(x[0,0]**2)]])\n",
        "  pk = -gk\n",
        "  k = 0 \n",
        "  restart = 0\n",
        " \n",
        "  call = 0\n",
        "\n",
        "  cost = []\n",
        "  norm = []\n",
        "  x_pathx = []\n",
        "  x_pathy = []\n",
        "  \n",
        "  while LA.norm(gk) > tol:\n",
        "    \n",
        "    grad_f = np.array([[4*(x[0,0]**3) - 4*x[0,0]*x[1,0] + 2*x[0,0] - 2],[2*x[1,0]-2*(x[0,0]**2)]])\n",
        "    alpha = alpha_0\n",
        "    while rosenbrock(1,x + alpha*(pk))    > rosenbrock(1,x) + c*alpha*((grad_f.T)@(pk)) : \n",
        "      alpha = rho*alpha\n",
        "      call += 2\n",
        "      \n",
        "\n",
        "    \n",
        "    x = x +  alpha*(pk)\n",
        "\n",
        "\n",
        "    \n",
        "    gk_plus1 = np.array([[4*(x[0,0]**3) - 4*x[0,0]*x[1,0] + 2*x[0,0] - 2],[2*x[1,0]-2*(x[0,0]**2)]])\n",
        "\n",
        "\n",
        "    beta_FR = ((gk_plus1.T)@(gk_plus1))/((gk.T)@(gk))\n",
        "    \n",
        "    \n",
        "    pk = -gk_plus1 + beta_FR * pk\n",
        "    \n",
        "    #check descent dirction:\n",
        "\n",
        "    if pk.T @ gk_plus1 > 0 :\n",
        "      restart +=1\n",
        "      pk = -np.array([[4*(x[0,0]**3) - 4*x[0,0]*x[1,0] + 2*x[0,0] - 2],[2*x[1,0]-2*(x[0,0]**2)]])\n",
        "  \n",
        "\n",
        "    k = k + 1\n",
        "    gk = gk_plus1\n",
        "    \n",
        "    \n",
        "\n",
        "    \n",
        "    \n",
        "    \n",
        "    \n",
        "    cost.append(rosenbrock(1,x))\n",
        "    norm.append(LA.norm(gk_plus1))\n",
        "    x_pathx.append(x[0,0])\n",
        "    x_pathy.append(x[1,0])\n",
        "\n",
        "    \n",
        "  \n",
        "  #print('norm after iteration:',LA.norm(grad_f),'\\n')\n",
        "  print('function eval:',call)\n",
        "  print('x position after algrithm:', x,'\\n')\n",
        "  print('iter took :',k ,'\\n')\n",
        "  print('function valuve at x is :',rosenbrock(1,x),'\\n')\n",
        "  print('restart number:',restart)\n",
        "\n",
        "  print('\\n')\n",
        "  print('\\n')\n",
        "\n",
        "\n",
        "  print('cost value graph','\\n')\n",
        "  pyplot.yscale('log')\n",
        "  plt.plot(cost)\n",
        "  plt.ylabel('cost value')\n",
        "  plt.xlabel('iteraions')\n",
        "  plt.show()\n",
        "  \n",
        "  print('\\n')\n",
        "  print('\\n')\n",
        "\n",
        "  print('grad norm graph \\n')\n",
        "  pyplot.yscale('log')\n",
        "  plt.plot(norm)\n",
        "  plt.ylabel('grad norm')\n",
        "  plt.xlabel('iteraions')\n",
        "  plt.show()\n",
        "  \n",
        "  print('\\n')\n",
        "  print('\\n')\n",
        "\n",
        "\n",
        "\n",
        "\n",
        "\n",
        "\n",
        "  print('x position progression ,blue dot is solution [1,1]\\n')\n",
        "\n",
        "\n",
        "  #plt.plot(1,1,'bo')\n",
        "  \n",
        "  xlist = np.linspace(0.2, 1.2, 10)\n",
        "  ylist = np.linspace(0.8, 1.5, 10)\n",
        "  X, Y = np.meshgrid(xlist, ylist)\n",
        "  Z = (Y-X**2)**2 + (1-(X))**2\n",
        "  fig,ax=plt.subplots(1,1)\n",
        "  cp = ax.contourf(X, Y, Z)\n",
        "  fig.colorbar(cp) # Add a colorbar to a plot\n",
        "  ax.set_title('Filled Contours Plot')\n",
        "  #ax.set_xlabel('x (cm)')\n",
        "  ax.set_ylabel('y (cm)')\n",
        "  plt.plot(x_pathx,x_pathy,'k')\n",
        "  plt.plot(x_pathx,x_pathy,'ro')\n",
        "  \n",
        "  plt.show()\n",
        "\n",
        "  return x "
      ],
      "execution_count": null,
      "outputs": []
    },
    {
      "cell_type": "code",
      "metadata": {
        "id": "Kl86xb7t3yUg",
        "colab": {
          "base_uri": "https://localhost:8080/",
          "height": 1000
        },
        "outputId": "13885fa6-a16a-4cd4-90ff-fdbbaf2e9fda"
      },
      "source": [
        "\n",
        "NonelinearCG_FR_A1(tol = 1e-3,alpha_0 = 1,rho = 0.5,c = 0.01,x_0 = np.array([[-1.2],[1.]]))"
      ],
      "execution_count": null,
      "outputs": [
        {
          "output_type": "stream",
          "text": [
            "function eval: 74\n",
            "x position after algrithm: [[1.00052773]\n",
            " [1.00127929]] \n",
            "\n",
            "iter took : 15 \n",
            "\n",
            "function valuve at x is : 3.2847533682549037e-07 \n",
            "\n",
            "restart number: 0\n",
            "\n",
            "\n",
            "\n",
            "\n",
            "cost value graph \n",
            "\n"
          ],
          "name": "stdout"
        },
        {
          "output_type": "display_data",
          "data": {
            "image/png": "[encoded data removed]",
            "text/plain": [
              "<Figure size 432x288 with 1 Axes>"
            ]
          },
          "metadata": {
            "tags": [],
            "needs_background": "light"
          }
        },
        {
          "output_type": "stream",
          "text": [
            "\n",
            "\n",
            "\n",
            "\n",
            "grad norm graph \n",
            "\n"
          ],
          "name": "stdout"
        },
        {
          "output_type": "display_data",
          "data": {
            "image/png": "[encoded data removed]",
            "text/plain": [
              "<Figure size 432x288 with 1 Axes>"
            ]
          },
          "metadata": {
            "tags": [],
            "needs_background": "light"
          }
        },
        {
          "output_type": "stream",
          "text": [
            "\n",
            "\n",
            "\n",
            "\n",
            "x position progression ,blue dot is solution [1,1]\n",
            "\n"
          ],
          "name": "stdout"
        },
        {
          "output_type": "display_data",
          "data": {
            "image/png": "[encoded data removed]",
            "text/plain": [
              "<Figure size 432x288 with 2 Axes>"
            ]
          },
          "metadata": {
            "tags": [],
            "needs_background": "light"
          }
        },
        {
          "output_type": "execute_result",
          "data": {
            "text/plain": [
              "array([[1.00052773],\n",
              "       [1.00127929]])"
            ]
          },
          "metadata": {
            "tags": []
          },
          "execution_count": 9
        }
      ]
    },
    {
      "cell_type": "markdown",
      "metadata": {
        "id": "DO0GVy90e1CR"
      },
      "source": [
        "**non linear CG_FR with rosenbrock A=100**"
      ]
    },
    {
      "cell_type": "code",
      "metadata": {
        "id": "82xuoT0D9gKK"
      },
      "source": [
        "def NonelinearCG_FR_A100(tol,alpha_0,rho,c,x_0):\n",
        "  x = x_0\n",
        "  \n",
        "  gk = np.array([[400*(x[0,0]**3) - 400*x[0,0]*x[1,0] + 2*x[0,0] - 2],[200*x[1,0]-200*(x[0,0]**2)]])\n",
        "  pk = -gk\n",
        "  k = 0 \n",
        "  restart = 0\n",
        "  \n",
        "  call = 0\n",
        "  cost = []\n",
        "  norm = []\n",
        "  x_pathx = []\n",
        "  x_pathy = []\n",
        "  counter = 0\n",
        "  \n",
        "  while LA.norm(gk) > tol:\n",
        "    grad_f = np.array([[400*(x[0,0]**3) - 400*x[0,0]*x[1,0] + 2*x[0,0] - 2],[200*x[1,0]-200*(x[0,0]**2)]])\n",
        "    alpha = alpha_0\n",
        "    \n",
        "    while rosenbrock(100,x + alpha*(pk))  >  rosenbrock(100,x) + c*alpha*((grad_f.T)@(pk))  : \n",
        "      alpha = rho*alpha\n",
        "  \n",
        "      call  += 2\n",
        "    \n",
        "    x = x +  alpha*(pk)\n",
        "\n",
        "\n",
        "    \n",
        "    gk_plus1 = np.array([[400*(x[0,0]**3) - 400*x[0,0]*x[1,0] + 2*x[0,0] - 2],[200*x[1,0]-200*(x[0,0]**2)]])\n",
        "\n",
        "\n",
        "    beta_FR = ((gk_plus1.T)@(gk_plus1))/((gk.T)@(gk))\n",
        "    \n",
        "    #beta_FR = ((LA.norm(gk_plus1))/(LA.norm(gk))) \n",
        "    \n",
        "    \n",
        "    pk = -gk_plus1 + beta_FR * pk\n",
        "    \n",
        "\n",
        "    if pk.T @ gk_plus1 > 0 :\n",
        "      \n",
        "      restart +=1\n",
        "      pk = -np.array([[400*(x[0,0]**3) - 400*x[0,0]*x[1,0] + 2*x[0,0] - 2],[200*x[1,0]-200*(x[0,0]**2)]])\n",
        "  \n",
        "\n",
        "    k = k + 1\n",
        "\n",
        "    gk = gk_plus1\n",
        "    \n",
        "\n",
        "\n",
        "    cost.append(rosenbrock(100,x))\n",
        "    norm.append(LA.norm(gk_plus1))\n",
        "    x_pathx.append(x[0,0])\n",
        "    x_pathy.append(x[1,0])\n",
        "    \n",
        " \n",
        "   \n",
        "  print('function eval : ', call,'\\n')\n",
        "\n",
        "  print('x position after algrithm:', x,'\\n')\n",
        "  print('iter took :',k ,'\\n')\n",
        "  print('function valuve at x is :',rosenbrock(100,x),'\\n')\n",
        "  print('restart:',restart)\n",
        "\n",
        "  print('\\n')\n",
        "  print('\\n')\n",
        "\n",
        "\n",
        "\n",
        "  print('grad norm graph \\n')\n",
        "  pyplot.yscale('log')\n",
        "  plt.plot(norm)\n",
        "  plt.ylabel('grad norm')\n",
        "  plt.xlabel('iteraions')\n",
        "  plt.show()\n",
        "\n",
        "\n",
        "  print('cost value graph','\\n')\n",
        "  pyplot.yscale('log')\n",
        "  plt.plot(cost)\n",
        "  plt.ylabel('cost value')\n",
        "  plt.xlabel('iteraions')\n",
        "  plt.show()\n",
        "  \n",
        "\n",
        "  print('x position progression ,blue dot is solution [1,1]\\n')\n",
        "  \n",
        "\n",
        "   \n",
        "\n",
        "\n",
        "\n",
        "  xlist = np.linspace(-1.5, 2.5, 10)\n",
        "  ylist = np.linspace(-1, 5, 10)\n",
        "  X, Y = np.meshgrid(xlist, ylist)\n",
        "  Z = 100*(Y-X**2)**2 + (1-(X))**2\n",
        "  fig,ax=plt.subplots(1,1)\n",
        "  cp = ax.contourf(X, Y, Z)\n",
        "  fig.colorbar(cp) # Add a colorbar to a plot\n",
        "  ax.set_title('Filled Contours Plot')\n",
        "#ax.set_xlabel('x (cm)')\n",
        "  ax.set_ylabel('y (cm)')\n",
        "  plt.plot(x_pathx,x_pathy,'k')\n",
        "  plt.plot(x_pathx,x_pathy,'ro')\n",
        "  plt.plot(1,1,'bo')\n",
        "  \n",
        "  plt.show()\n",
        "  return x ,counter"
      ],
      "execution_count": null,
      "outputs": []
    },
    {
      "cell_type": "code",
      "metadata": {
        "id": "B0WAxRny_aiN",
        "colab": {
          "base_uri": "https://localhost:8080/",
          "height": 1000
        },
        "outputId": "b82224ab-4f68-495e-dfe4-91d181a409d5"
      },
      "source": [
        "NonelinearCG_FR_A100(tol = 1e-3,alpha_0 = 1,rho = 0.5,c = 0.01,x_0 = np.array([[-1.2],[1]]))"
      ],
      "execution_count": null,
      "outputs": [
        {
          "output_type": "stream",
          "text": [
            "function eval :  3602 \n",
            "\n",
            "x position after algrithm: [[0.99980077]\n",
            " [0.99960068]] \n",
            "\n",
            "iter took : 150 \n",
            "\n",
            "function valuve at x is : 3.977254389599024e-08 \n",
            "\n",
            "restart: 1\n",
            "\n",
            "\n",
            "\n",
            "\n",
            "grad norm graph \n",
            "\n"
          ],
          "name": "stdout"
        },
        {
          "output_type": "display_data",
          "data": {
            "image/png": "[encoded data removed]",
            "text/plain": [
              "<Figure size 432x288 with 1 Axes>"
            ]
          },
          "metadata": {
            "tags": [],
            "needs_background": "light"
          }
        },
        {
          "output_type": "stream",
          "text": [
            "cost value graph \n",
            "\n"
          ],
          "name": "stdout"
        },
        {
          "output_type": "display_data",
          "data": {
            "image/png": "[encoded data removed]",
            "text/plain": [
              "<Figure size 432x288 with 1 Axes>"
            ]
          },
          "metadata": {
            "tags": [],
            "needs_background": "light"
          }
        },
        {
          "output_type": "stream",
          "text": [
            "x position progression ,blue dot is solution [1,1]\n",
            "\n"
          ],
          "name": "stdout"
        },
        {
          "output_type": "display_data",
          "data": {
            "image/png": "[encoded data removed]",
            "text/plain": [
              "<Figure size 432x288 with 2 Axes>"
            ]
          },
          "metadata": {
            "tags": [],
            "needs_background": "light"
          }
        },
        {
          "output_type": "execute_result",
          "data": {
            "text/plain": [
              "(array([[0.99980077],\n",
              "        [0.99960068]]), 0)"
            ]
          },
          "metadata": {
            "tags": []
          },
          "execution_count": 11
        }
      ]
    }
  ]
}